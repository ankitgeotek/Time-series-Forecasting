{
 "cells": [
  {
   "cell_type": "code",
   "execution_count": 1,
   "metadata": {},
   "outputs": [
    {
     "name": "stdout",
     "output_type": "stream",
     "text": [
      "1\n"
     ]
    }
   ],
   "source": [
    "print(1)"
   ]
  },
  {
   "cell_type": "code",
   "execution_count": 4,
   "metadata": {},
   "outputs": [
    {
     "name": "stdout",
     "output_type": "stream",
     "text": [
      "Collecting statsmodels\n",
      "  Downloading statsmodels-0.14.0-cp311-cp311-win_amd64.whl (9.2 MB)\n",
      "     ---------------------------------------- 0.0/9.2 MB ? eta -:--:--\n",
      "     ---------------------------------------- 0.0/9.2 MB 960.0 kB/s eta 0:00:10\n",
      "      --------------------------------------- 0.1/9.2 MB 1.8 MB/s eta 0:00:06\n",
      "     - -------------------------------------- 0.3/9.2 MB 2.4 MB/s eta 0:00:04\n",
      "     - -------------------------------------- 0.4/9.2 MB 2.5 MB/s eta 0:00:04\n",
      "     ---- ----------------------------------- 0.9/9.2 MB 4.3 MB/s eta 0:00:02\n",
      "     ------ --------------------------------- 1.4/9.2 MB 5.1 MB/s eta 0:00:02\n",
      "     ------- -------------------------------- 1.8/9.2 MB 5.8 MB/s eta 0:00:02\n",
      "     --------- ------------------------------ 2.1/9.2 MB 5.8 MB/s eta 0:00:02\n",
      "     ---------- ----------------------------- 2.4/9.2 MB 5.7 MB/s eta 0:00:02\n",
      "     ----------- ---------------------------- 2.6/9.2 MB 5.8 MB/s eta 0:00:02\n",
      "     ------------ --------------------------- 3.0/9.2 MB 5.7 MB/s eta 0:00:02\n",
      "     ------------- -------------------------- 3.2/9.2 MB 5.7 MB/s eta 0:00:02\n",
      "     --------------- ------------------------ 3.5/9.2 MB 5.7 MB/s eta 0:00:01\n",
      "     ---------------- ----------------------- 3.8/9.2 MB 5.6 MB/s eta 0:00:01\n",
      "     ------------------ --------------------- 4.1/9.2 MB 5.6 MB/s eta 0:00:01\n",
      "     ------------------ --------------------- 4.3/9.2 MB 5.7 MB/s eta 0:00:01\n",
      "     ------------------ --------------------- 4.3/9.2 MB 5.7 MB/s eta 0:00:01\n",
      "     ------------------ --------------------- 4.3/9.2 MB 5.7 MB/s eta 0:00:01\n",
      "     ------------------ --------------------- 4.3/9.2 MB 5.7 MB/s eta 0:00:01\n",
      "     ------------------ --------------------- 4.3/9.2 MB 5.7 MB/s eta 0:00:01\n",
      "     ----------------------- ---------------- 5.4/9.2 MB 5.4 MB/s eta 0:00:01\n",
      "     ------------------------- -------------- 5.9/9.2 MB 5.4 MB/s eta 0:00:01\n",
      "     -------------------------- ------------- 6.1/9.2 MB 5.4 MB/s eta 0:00:01\n",
      "     --------------------------- ------------ 6.4/9.2 MB 5.4 MB/s eta 0:00:01\n",
      "     ----------------------------- ---------- 6.7/9.2 MB 5.4 MB/s eta 0:00:01\n",
      "     ------------------------------ --------- 6.9/9.2 MB 5.4 MB/s eta 0:00:01\n",
      "     ------------------------------- -------- 7.1/9.2 MB 5.4 MB/s eta 0:00:01\n",
      "     -------------------------------- ------- 7.4/9.2 MB 5.3 MB/s eta 0:00:01\n",
      "     --------------------------------- ------ 7.8/9.2 MB 5.3 MB/s eta 0:00:01\n",
      "     ---------------------------------- ----- 8.0/9.2 MB 5.3 MB/s eta 0:00:01\n",
      "     ----------------------------------- ---- 8.2/9.2 MB 5.3 MB/s eta 0:00:01\n",
      "     ------------------------------------ --- 8.5/9.2 MB 5.3 MB/s eta 0:00:01\n",
      "     -------------------------------------- - 8.9/9.2 MB 5.3 MB/s eta 0:00:01\n",
      "     ---------------------------------------  9.2/9.2 MB 5.3 MB/s eta 0:00:01\n",
      "     ---------------------------------------  9.2/9.2 MB 5.3 MB/s eta 0:00:01\n",
      "     ---------------------------------------- 9.2/9.2 MB 5.2 MB/s eta 0:00:00\n",
      "Requirement already satisfied: numpy>=1.18 in c:\\users\\acz\\appdata\\local\\programs\\python\\python311\\lib\\site-packages (from statsmodels) (1.25.1)\n",
      "Requirement already satisfied: scipy!=1.9.2,>=1.4 in c:\\users\\acz\\appdata\\local\\programs\\python\\python311\\lib\\site-packages (from statsmodels) (1.11.2)\n",
      "Requirement already satisfied: pandas>=1.0 in c:\\users\\acz\\appdata\\local\\programs\\python\\python311\\lib\\site-packages (from statsmodels) (2.0.3)\n",
      "Collecting patsy>=0.5.2 (from statsmodels)\n",
      "  Downloading patsy-0.5.3-py2.py3-none-any.whl (233 kB)\n",
      "     ---------------------------------------- 0.0/233.8 kB ? eta -:--:--\n",
      "     -------------------------------------- 233.8/233.8 kB 7.2 MB/s eta 0:00:00\n",
      "Requirement already satisfied: packaging>=21.3 in c:\\users\\acz\\appdata\\local\\programs\\python\\python311\\lib\\site-packages (from statsmodels) (23.1)\n",
      "Requirement already satisfied: python-dateutil>=2.8.2 in c:\\users\\acz\\appdata\\local\\programs\\python\\python311\\lib\\site-packages (from pandas>=1.0->statsmodels) (2.8.2)\n",
      "Requirement already satisfied: pytz>=2020.1 in c:\\users\\acz\\appdata\\local\\programs\\python\\python311\\lib\\site-packages (from pandas>=1.0->statsmodels) (2023.3)\n",
      "Requirement already satisfied: tzdata>=2022.1 in c:\\users\\acz\\appdata\\local\\programs\\python\\python311\\lib\\site-packages (from pandas>=1.0->statsmodels) (2023.3)\n",
      "Requirement already satisfied: six in c:\\users\\acz\\appdata\\local\\programs\\python\\python311\\lib\\site-packages (from patsy>=0.5.2->statsmodels) (1.16.0)\n",
      "Installing collected packages: patsy, statsmodels\n",
      "Successfully installed patsy-0.5.3 statsmodels-0.14.0\n"
     ]
    }
   ],
   "source": [
    "!pip install statsmodels\n"
   ]
  },
  {
   "cell_type": "code",
   "execution_count": null,
   "metadata": {},
   "outputs": [],
   "source": [
    "from statsmodels.tsa.ar_model import AutoReg"
   ]
  }
 ],
 "metadata": {
  "kernelspec": {
   "display_name": "Python 3",
   "language": "python",
   "name": "python3"
  },
  "language_info": {
   "codemirror_mode": {
    "name": "ipython",
    "version": 3
   },
   "file_extension": ".py",
   "mimetype": "text/x-python",
   "name": "python",
   "nbconvert_exporter": "python",
   "pygments_lexer": "ipython3",
   "version": "3.11.4"
  }
 },
 "nbformat": 4,
 "nbformat_minor": 2
}
